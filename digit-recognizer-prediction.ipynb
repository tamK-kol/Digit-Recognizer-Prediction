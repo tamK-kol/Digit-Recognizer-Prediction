{
 "cells": [
  {
   "cell_type": "code",
   "execution_count": 1,
   "id": "f56f09b6",
   "metadata": {
    "_cell_guid": "b1076dfc-b9ad-4769-8c92-a6c4dae69d19",
    "_uuid": "8f2839f25d086af736a60e9eeb907d3b93b6e0e5",
    "execution": {
     "iopub.execute_input": "2024-01-08T18:09:31.979123Z",
     "iopub.status.busy": "2024-01-08T18:09:31.978687Z",
     "iopub.status.idle": "2024-01-08T18:09:48.821235Z",
     "shell.execute_reply": "2024-01-08T18:09:48.818901Z"
    },
    "papermill": {
     "duration": 16.853789,
     "end_time": "2024-01-08T18:09:48.824903",
     "exception": false,
     "start_time": "2024-01-08T18:09:31.971114",
     "status": "completed"
    },
    "tags": []
   },
   "outputs": [
    {
     "name": "stdout",
     "output_type": "stream",
     "text": [
      "/kaggle/input/digit-recogniser-train/train.csv\n",
      "/kaggle/input/digit-recogniser/test.csv\n"
     ]
    }
   ],
   "source": [
    "import numpy as np\n",
    "import pandas as pd\n",
    "import tensorflow as tf\n",
    "import matplotlib.pyplot as plt\n",
    "from keras.preprocessing.image import ImageDataGenerator # Image augmentation\n",
    "import os\n",
    "for dirname, _, filenames in os.walk('/kaggle/input'):\n",
    "    for filename in filenames:\n",
    "        print(os.path.join(dirname, filename))"
   ]
  },
  {
   "cell_type": "code",
   "execution_count": 2,
   "id": "c1c04b16",
   "metadata": {
    "execution": {
     "iopub.execute_input": "2024-01-08T18:09:48.838508Z",
     "iopub.status.busy": "2024-01-08T18:09:48.837564Z",
     "iopub.status.idle": "2024-01-08T18:09:53.635788Z",
     "shell.execute_reply": "2024-01-08T18:09:53.634278Z"
    },
    "papermill": {
     "duration": 4.807995,
     "end_time": "2024-01-08T18:09:53.638618",
     "exception": false,
     "start_time": "2024-01-08T18:09:48.830623",
     "status": "completed"
    },
    "tags": []
   },
   "outputs": [
    {
     "data": {
      "text/html": [
       "<div>\n",
       "<style scoped>\n",
       "    .dataframe tbody tr th:only-of-type {\n",
       "        vertical-align: middle;\n",
       "    }\n",
       "\n",
       "    .dataframe tbody tr th {\n",
       "        vertical-align: top;\n",
       "    }\n",
       "\n",
       "    .dataframe thead th {\n",
       "        text-align: right;\n",
       "    }\n",
       "</style>\n",
       "<table border=\"1\" class=\"dataframe\">\n",
       "  <thead>\n",
       "    <tr style=\"text-align: right;\">\n",
       "      <th></th>\n",
       "      <th>label</th>\n",
       "      <th>pixel0</th>\n",
       "      <th>pixel1</th>\n",
       "      <th>pixel2</th>\n",
       "      <th>pixel3</th>\n",
       "      <th>pixel4</th>\n",
       "      <th>pixel5</th>\n",
       "      <th>pixel6</th>\n",
       "      <th>pixel7</th>\n",
       "      <th>pixel8</th>\n",
       "      <th>...</th>\n",
       "      <th>pixel774</th>\n",
       "      <th>pixel775</th>\n",
       "      <th>pixel776</th>\n",
       "      <th>pixel777</th>\n",
       "      <th>pixel778</th>\n",
       "      <th>pixel779</th>\n",
       "      <th>pixel780</th>\n",
       "      <th>pixel781</th>\n",
       "      <th>pixel782</th>\n",
       "      <th>pixel783</th>\n",
       "    </tr>\n",
       "  </thead>\n",
       "  <tbody>\n",
       "    <tr>\n",
       "      <th>0</th>\n",
       "      <td>1</td>\n",
       "      <td>0</td>\n",
       "      <td>0</td>\n",
       "      <td>0</td>\n",
       "      <td>0</td>\n",
       "      <td>0</td>\n",
       "      <td>0</td>\n",
       "      <td>0</td>\n",
       "      <td>0</td>\n",
       "      <td>0</td>\n",
       "      <td>...</td>\n",
       "      <td>0</td>\n",
       "      <td>0</td>\n",
       "      <td>0</td>\n",
       "      <td>0</td>\n",
       "      <td>0</td>\n",
       "      <td>0</td>\n",
       "      <td>0</td>\n",
       "      <td>0</td>\n",
       "      <td>0</td>\n",
       "      <td>0</td>\n",
       "    </tr>\n",
       "    <tr>\n",
       "      <th>1</th>\n",
       "      <td>0</td>\n",
       "      <td>0</td>\n",
       "      <td>0</td>\n",
       "      <td>0</td>\n",
       "      <td>0</td>\n",
       "      <td>0</td>\n",
       "      <td>0</td>\n",
       "      <td>0</td>\n",
       "      <td>0</td>\n",
       "      <td>0</td>\n",
       "      <td>...</td>\n",
       "      <td>0</td>\n",
       "      <td>0</td>\n",
       "      <td>0</td>\n",
       "      <td>0</td>\n",
       "      <td>0</td>\n",
       "      <td>0</td>\n",
       "      <td>0</td>\n",
       "      <td>0</td>\n",
       "      <td>0</td>\n",
       "      <td>0</td>\n",
       "    </tr>\n",
       "    <tr>\n",
       "      <th>2</th>\n",
       "      <td>1</td>\n",
       "      <td>0</td>\n",
       "      <td>0</td>\n",
       "      <td>0</td>\n",
       "      <td>0</td>\n",
       "      <td>0</td>\n",
       "      <td>0</td>\n",
       "      <td>0</td>\n",
       "      <td>0</td>\n",
       "      <td>0</td>\n",
       "      <td>...</td>\n",
       "      <td>0</td>\n",
       "      <td>0</td>\n",
       "      <td>0</td>\n",
       "      <td>0</td>\n",
       "      <td>0</td>\n",
       "      <td>0</td>\n",
       "      <td>0</td>\n",
       "      <td>0</td>\n",
       "      <td>0</td>\n",
       "      <td>0</td>\n",
       "    </tr>\n",
       "    <tr>\n",
       "      <th>3</th>\n",
       "      <td>4</td>\n",
       "      <td>0</td>\n",
       "      <td>0</td>\n",
       "      <td>0</td>\n",
       "      <td>0</td>\n",
       "      <td>0</td>\n",
       "      <td>0</td>\n",
       "      <td>0</td>\n",
       "      <td>0</td>\n",
       "      <td>0</td>\n",
       "      <td>...</td>\n",
       "      <td>0</td>\n",
       "      <td>0</td>\n",
       "      <td>0</td>\n",
       "      <td>0</td>\n",
       "      <td>0</td>\n",
       "      <td>0</td>\n",
       "      <td>0</td>\n",
       "      <td>0</td>\n",
       "      <td>0</td>\n",
       "      <td>0</td>\n",
       "    </tr>\n",
       "    <tr>\n",
       "      <th>4</th>\n",
       "      <td>0</td>\n",
       "      <td>0</td>\n",
       "      <td>0</td>\n",
       "      <td>0</td>\n",
       "      <td>0</td>\n",
       "      <td>0</td>\n",
       "      <td>0</td>\n",
       "      <td>0</td>\n",
       "      <td>0</td>\n",
       "      <td>0</td>\n",
       "      <td>...</td>\n",
       "      <td>0</td>\n",
       "      <td>0</td>\n",
       "      <td>0</td>\n",
       "      <td>0</td>\n",
       "      <td>0</td>\n",
       "      <td>0</td>\n",
       "      <td>0</td>\n",
       "      <td>0</td>\n",
       "      <td>0</td>\n",
       "      <td>0</td>\n",
       "    </tr>\n",
       "  </tbody>\n",
       "</table>\n",
       "<p>5 rows × 785 columns</p>\n",
       "</div>"
      ],
      "text/plain": [
       "   label  pixel0  pixel1  pixel2  pixel3  pixel4  pixel5  pixel6  pixel7  \\\n",
       "0      1       0       0       0       0       0       0       0       0   \n",
       "1      0       0       0       0       0       0       0       0       0   \n",
       "2      1       0       0       0       0       0       0       0       0   \n",
       "3      4       0       0       0       0       0       0       0       0   \n",
       "4      0       0       0       0       0       0       0       0       0   \n",
       "\n",
       "   pixel8  ...  pixel774  pixel775  pixel776  pixel777  pixel778  pixel779  \\\n",
       "0       0  ...         0         0         0         0         0         0   \n",
       "1       0  ...         0         0         0         0         0         0   \n",
       "2       0  ...         0         0         0         0         0         0   \n",
       "3       0  ...         0         0         0         0         0         0   \n",
       "4       0  ...         0         0         0         0         0         0   \n",
       "\n",
       "   pixel780  pixel781  pixel782  pixel783  \n",
       "0         0         0         0         0  \n",
       "1         0         0         0         0  \n",
       "2         0         0         0         0  \n",
       "3         0         0         0         0  \n",
       "4         0         0         0         0  \n",
       "\n",
       "[5 rows x 785 columns]"
      ]
     },
     "execution_count": 2,
     "metadata": {},
     "output_type": "execute_result"
    }
   ],
   "source": [
    "train = pd.read_csv(\"/kaggle/input/digit-recogniser-train/train.csv\")\n",
    "train.head()"
   ]
  },
  {
   "cell_type": "code",
   "execution_count": 3,
   "id": "b16e2bd9",
   "metadata": {
    "execution": {
     "iopub.execute_input": "2024-01-08T18:09:53.651171Z",
     "iopub.status.busy": "2024-01-08T18:09:53.650752Z",
     "iopub.status.idle": "2024-01-08T18:09:54.751112Z",
     "shell.execute_reply": "2024-01-08T18:09:54.749459Z"
    },
    "papermill": {
     "duration": 1.110469,
     "end_time": "2024-01-08T18:09:54.754528",
     "exception": false,
     "start_time": "2024-01-08T18:09:53.644059",
     "status": "completed"
    },
    "tags": []
   },
   "outputs": [
    {
     "data": {
      "image/png": "[encoded data removed]",
      "text/plain": [
       "<Figure size 640x480 with 5 Axes>"
      ]
     },
     "metadata": {},
     "output_type": "display_data"
    }
   ],
   "source": [
    "# Extracting first 5 columns\n",
    "picture_test=train.copy().head(5).drop(columns='label')  \n",
    "# Reshaping dataframe from numpy to fit the plotting requirements\n",
    "p_test=np.array(picture_test).reshape(-1,28,28,1)\n",
    "# Plotting resulting images\n",
    "for i in range(5):\n",
    "    plt.subplot(2,3,i+1)\n",
    "    plt.imshow(p_test[i])"
   ]
  },
  {
   "cell_type": "code",
   "execution_count": 4,
   "id": "c10300bc",
   "metadata": {
    "execution": {
     "iopub.execute_input": "2024-01-08T18:09:54.768857Z",
     "iopub.status.busy": "2024-01-08T18:09:54.768427Z",
     "iopub.status.idle": "2024-01-08T18:09:54.965494Z",
     "shell.execute_reply": "2024-01-08T18:09:54.964115Z"
    },
    "papermill": {
     "duration": 0.208308,
     "end_time": "2024-01-08T18:09:54.968809",
     "exception": false,
     "start_time": "2024-01-08T18:09:54.760501",
     "status": "completed"
    },
    "tags": []
   },
   "outputs": [],
   "source": [
    "# Training data\n",
    "train_data = train.drop(columns='label')/255\n",
    "\n",
    "# Labels for training\n",
    "train_label = train[\"label\"]"
   ]
  },
  {
   "cell_type": "code",
   "execution_count": 5,
   "id": "d47fcabc",
   "metadata": {
    "execution": {
     "iopub.execute_input": "2024-01-08T18:09:54.984488Z",
     "iopub.status.busy": "2024-01-08T18:09:54.983419Z",
     "iopub.status.idle": "2024-01-08T18:09:54.989134Z",
     "shell.execute_reply": "2024-01-08T18:09:54.988148Z"
    },
    "papermill": {
     "duration": 0.017154,
     "end_time": "2024-01-08T18:09:54.992063",
     "exception": false,
     "start_time": "2024-01-08T18:09:54.974909",
     "status": "completed"
    },
    "tags": []
   },
   "outputs": [],
   "source": [
    "# Model development\n",
    "\n",
    "datagen = ImageDataGenerator(rotation_range = 5, #Degree from random rotations\n",
    "                            zoom_range = 0.1, width_shift_range=0.05, #Fraction of total width\n",
    "                            height_shift_range = 0.05 #Fraction of total height\n",
    ")"
   ]
  },
  {
   "cell_type": "code",
   "execution_count": 6,
   "id": "562cb169",
   "metadata": {
    "execution": {
     "iopub.execute_input": "2024-01-08T18:09:55.008573Z",
     "iopub.status.busy": "2024-01-08T18:09:55.008130Z",
     "iopub.status.idle": "2024-01-08T18:09:55.664643Z",
     "shell.execute_reply": "2024-01-08T18:09:55.663235Z"
    },
    "papermill": {
     "duration": 0.669431,
     "end_time": "2024-01-08T18:09:55.668164",
     "exception": false,
     "start_time": "2024-01-08T18:09:54.998733",
     "status": "completed"
    },
    "tags": []
   },
   "outputs": [],
   "source": [
    "# Finding the mean of the data\n",
    "X_mean = np.array(train_data).reshape(-1, 28, 28, 1).mean(axis=0)\n",
    "\n",
    "# Fitting the current database (Columns and final label) to the ImageDataGenerator object\n",
    "datagen.fit(np.array(train_data).reshape(-1, 28, 28, 1) - X_mean)\n",
    "\n",
    "train_gen = datagen.flow(np.array(train_data).reshape(-1, 28, 28, 1),\n",
    "                        train_label, batch_size = 100)"
   ]
  },
  {
   "cell_type": "code",
   "execution_count": 7,
   "id": "c6f6a5c3",
   "metadata": {
    "execution": {
     "iopub.execute_input": "2024-01-08T18:09:55.682537Z",
     "iopub.status.busy": "2024-01-08T18:09:55.682045Z",
     "iopub.status.idle": "2024-01-08T18:09:56.214363Z",
     "shell.execute_reply": "2024-01-08T18:09:56.213298Z"
    },
    "papermill": {
     "duration": 0.544162,
     "end_time": "2024-01-08T18:09:56.218454",
     "exception": false,
     "start_time": "2024-01-08T18:09:55.674292",
     "status": "completed"
    },
    "tags": []
   },
   "outputs": [],
   "source": [
    "# Creation of neural network\n",
    "model = tf.keras.Sequential()\n",
    "\n",
    "# Image transformation and analysis\n",
    "model.add(tf.keras.layers.Conv2D(filters=64, kernel_size=[5,5], activation='relu', padding='same'))\n",
    "model.add(tf.keras.layers.MaxPool2D(pool_size=[2, 2], strides=2))\n",
    "model.add(tf.keras.layers.Conv2D(filters=64, kernel_size=[5, 5], padding='same', activation='relu'))\n",
    "model.add(tf.keras.layers.MaxPool2D(pool_size=[2,2], strides = 2))\n",
    "model.add(tf.keras.layers.Flatten())\n",
    "model.add(tf.keras.layers.Dense(1024, activation='relu'))\n",
    "model.add(tf.keras.layers.Dropout(0.4))\n",
    "\n",
    "# Final prediction\n",
    "model.add(tf.keras.layers.Dense(10, activation='softmax'))\n",
    "\n",
    "# Compilator\n",
    "model.compile(loss=tf.keras.losses.SparseCategoricalCrossentropy(), \n",
    "              optimizer=tf.keras.optimizers.Adam(),\n",
    "             metrics=[\"accuracy\"])\n",
    "\n",
    "# Building of the model with the related input shape\n",
    "model.build([None, 28, 28, 1])"
   ]
  },
  {
   "cell_type": "code",
   "execution_count": 8,
   "id": "74617da4",
   "metadata": {
    "execution": {
     "iopub.execute_input": "2024-01-08T18:09:56.235145Z",
     "iopub.status.busy": "2024-01-08T18:09:56.233424Z",
     "iopub.status.idle": "2024-01-08T18:53:58.472449Z",
     "shell.execute_reply": "2024-01-08T18:53:58.471073Z"
    },
    "papermill": {
     "duration": 2643.090003,
     "end_time": "2024-01-08T18:53:59.315198",
     "exception": false,
     "start_time": "2024-01-08T18:09:56.225195",
     "status": "completed"
    },
    "tags": []
   },
   "outputs": [
    {
     "name": "stdout",
     "output_type": "stream",
     "text": [
      "Epoch 1/20\n",
      "420/420 [==============================] - 123s 289ms/step - loss: 0.1977 - accuracy: 0.9366\n",
      "Epoch 2/20\n",
      "420/420 [==============================] - 121s 289ms/step - loss: 0.0631 - accuracy: 0.9814\n",
      "Epoch 3/20\n",
      "420/420 [==============================] - 124s 296ms/step - loss: 0.0447 - accuracy: 0.9860\n",
      "Epoch 4/20\n",
      "420/420 [==============================] - 122s 291ms/step - loss: 0.0384 - accuracy: 0.9879\n",
      "Epoch 5/20\n",
      "420/420 [==============================] - 121s 288ms/step - loss: 0.0323 - accuracy: 0.9895\n",
      "Epoch 6/20\n",
      "420/420 [==============================] - 121s 288ms/step - loss: 0.0287 - accuracy: 0.9913\n",
      "Epoch 7/20\n",
      "420/420 [==============================] - 121s 287ms/step - loss: 0.0262 - accuracy: 0.9915\n",
      "Epoch 8/20\n",
      "420/420 [==============================] - 120s 286ms/step - loss: 0.0236 - accuracy: 0.9929\n",
      "Epoch 9/20\n",
      "420/420 [==============================] - 120s 284ms/step - loss: 0.0218 - accuracy: 0.9933\n",
      "Epoch 10/20\n",
      "420/420 [==============================] - 120s 286ms/step - loss: 0.0199 - accuracy: 0.9935\n",
      "Epoch 11/20\n",
      "420/420 [==============================] - 120s 286ms/step - loss: 0.0182 - accuracy: 0.9941\n",
      "Epoch 12/20\n",
      "420/420 [==============================] - 120s 286ms/step - loss: 0.0186 - accuracy: 0.9937\n",
      "Epoch 13/20\n",
      "420/420 [==============================] - 121s 288ms/step - loss: 0.0180 - accuracy: 0.9941\n",
      "Epoch 14/20\n",
      "420/420 [==============================] - 124s 296ms/step - loss: 0.0174 - accuracy: 0.9943\n",
      "Epoch 15/20\n",
      "420/420 [==============================] - 123s 292ms/step - loss: 0.0176 - accuracy: 0.9943\n",
      "Epoch 16/20\n",
      "420/420 [==============================] - 122s 290ms/step - loss: 0.0134 - accuracy: 0.9960\n",
      "Epoch 17/20\n",
      "420/420 [==============================] - 122s 290ms/step - loss: 0.0141 - accuracy: 0.9956\n",
      "Epoch 18/20\n",
      "420/420 [==============================] - 121s 288ms/step - loss: 0.0145 - accuracy: 0.9952\n",
      "Epoch 19/20\n",
      "420/420 [==============================] - 120s 286ms/step - loss: 0.0113 - accuracy: 0.9961\n",
      "Epoch 20/20\n",
      "420/420 [==============================] - 122s 289ms/step - loss: 0.0127 - accuracy: 0.9962\n"
     ]
    },
    {
     "data": {
      "text/plain": [
       "<keras.src.callbacks.History at 0x7b38e40cfc70>"
      ]
     },
     "execution_count": 8,
     "metadata": {},
     "output_type": "execute_result"
    }
   ],
   "source": [
    "model.fit(train_gen, epochs=20)"
   ]
  },
  {
   "cell_type": "code",
   "execution_count": 9,
   "id": "e41d0774",
   "metadata": {
    "execution": {
     "iopub.execute_input": "2024-01-08T18:54:01.118480Z",
     "iopub.status.busy": "2024-01-08T18:54:01.118058Z",
     "iopub.status.idle": "2024-01-08T18:54:03.994771Z",
     "shell.execute_reply": "2024-01-08T18:54:03.993293Z"
    },
    "papermill": {
     "duration": 3.70988,
     "end_time": "2024-01-08T18:54:03.998093",
     "exception": false,
     "start_time": "2024-01-08T18:54:00.288213",
     "status": "completed"
    },
    "tags": []
   },
   "outputs": [],
   "source": [
    "test= pd.read_csv(\"/kaggle/input/digit-recogniser/test.csv\")/255"
   ]
  },
  {
   "cell_type": "code",
   "execution_count": 10,
   "id": "22e1758c",
   "metadata": {
    "execution": {
     "iopub.execute_input": "2024-01-08T18:54:05.778287Z",
     "iopub.status.busy": "2024-01-08T18:54:05.777765Z",
     "iopub.status.idle": "2024-01-08T18:54:47.275612Z",
     "shell.execute_reply": "2024-01-08T18:54:47.273885Z"
    },
    "papermill": {
     "duration": 42.446752,
     "end_time": "2024-01-08T18:54:47.279355",
     "exception": false,
     "start_time": "2024-01-08T18:54:04.832603",
     "status": "completed"
    },
    "tags": []
   },
   "outputs": [
    {
     "name": "stdout",
     "output_type": "stream",
     "text": [
      "875/875 [==============================] - 22s 25ms/step\n"
     ]
    }
   ],
   "source": [
    "# Prediction\n",
    "predictions = model.predict(tf.reshape(test, [-1, 28, 28, 1]))\n",
    "\n",
    "# Change to relate the results to the exact integer\n",
    "predictions = tf.math.argmax(predictions, axis = -1)\n",
    "\n",
    "# Passing information to dataframe\n",
    "predictions = pd.Series(predictions, name='Label')\n",
    "\n",
    "# Labels of images (Ids)\n",
    "image_id = pd.Series(range(1,28001), name = 'ImageId')\n",
    "\n",
    "# Final Dataframe and CSV submission\n",
    "predictions = pd.concat([image_id, predictions], axis = 1)\n",
    "predictions.to_csv('submission.csv', index=False)"
   ]
  },
  {
   "cell_type": "code",
   "execution_count": null,
   "id": "b527db6e",
   "metadata": {
    "papermill": {
     "duration": 0.884133,
     "end_time": "2024-01-08T18:54:49.038179",
     "exception": false,
     "start_time": "2024-01-08T18:54:48.154046",
     "status": "completed"
    },
    "tags": []
   },
   "outputs": [],
   "source": []
  }
 ],
 "metadata": {
  "kaggle": {
   "accelerator": "none",
   "dataSources": [
    {
     "datasetId": 4277818,
     "sourceId": 7363886,
     "sourceType": "datasetVersion"
    },
    {
     "datasetId": 4277879,
     "sourceId": 7363966,
     "sourceType": "datasetVersion"
    }
   ],
   "dockerImageVersionId": 30626,
   "isGpuEnabled": false,
   "isInternetEnabled": true,
   "language": "python",
   "sourceType": "notebook"
  },
  "kernelspec": {
   "display_name": "Python 3",
   "language": "python",
   "name": "python3"
  },
  "language_info": {
   "codemirror_mode": {
    "name": "ipython",
    "version": 3
   },
   "file_extension": ".py",
   "mimetype": "text/x-python",
   "name": "python",
   "nbconvert_exporter": "python",
   "pygments_lexer": "ipython3",
   "version": "3.10.12"
  },
  "papermill": {
   "default_parameters": {},
   "duration": 2725.210598,
   "end_time": "2024-01-08T18:54:53.156710",
   "environment_variables": {},
   "exception": null,
   "input_path": "__notebook__.ipynb",
   "output_path": "__notebook__.ipynb",
   "parameters": {},
   "start_time": "2024-01-08T18:09:27.946112",
   "version": "2.4.0"
  }
 },
 "nbformat": 4,
 "nbformat_minor": 5
}
